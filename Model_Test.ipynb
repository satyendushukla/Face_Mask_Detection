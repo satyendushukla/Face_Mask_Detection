{
 "cells": [
  {
   "cell_type": "code",
   "execution_count": null,
   "id": "0316d731",
   "metadata": {},
   "outputs": [
    {
     "ename": "",
     "evalue": "",
     "output_type": "error",
     "traceback": [
      "\u001b[1;31mRunning cells with 'Python 3.10.4 64-bit' requires ipykernel package.\n",
      "Run the following command to install 'ipykernel' into the Python environment. \n",
      "Command: '/bin/python -m pip install ipykernel -U --user --force-reinstall'"
     ]
    }
   ],
   "source": [
    "import cv2\n",
    "import mediapipe as mp\n",
    "import numpy as np\n",
    "import tensorflow as tf\n",
    "from tensorflow.keras.models import load_model\n",
    "\n",
    "# Load the model\n",
    "model = load_model('model.h5')\n",
    "\n",
    "# Define mediapipe Face detector\n",
    "\n",
    "face_detection = mp.solutions.face_detection.FaceDetection()\n",
    "\n",
    "# Detection function\n",
    "\n",
    "\n",
    "\n",
    "def get_detection(frame):\n",
    "\n",
    "    height, width, channel = frame.shape\n",
    "\n",
    "    # Convert frame BGR to RGB colorspace\n",
    "\n",
    "    imgRGB = cv2.cvtColor(frame, cv2.COLOR_BGR2RGB)\n",
    "    # Detect results from the frame\n",
    "    \n",
    "    result = face_detection.process(imgRGB)\n",
    "\n",
    "\n",
    "    try:\n",
    "        for count, detection in enumerate(result.detections):\n",
    "\n",
    "            # print(detection)\n",
    "\n",
    "        \n",
    "            # Extract bounding box information \n",
    "            \n",
    "            box = detection.location_data.relative_bounding_box\n",
    "\n",
    "            x, y, w, h = int(box.xmin*width), int(box.ymin * height), int(box.width*width), int(box.height*height)\n",
    "            \n",
    "    # If detection is not available then pass \n",
    "    except:\n",
    "        pass\n",
    "\n",
    "    return x, y, w, h\n",
    "\n",
    "CATEGORIES = ['no_mask', 'mask']\n",
    "cap = cv2.VideoCapture(0)\n",
    "while True:\n",
    "    _, frame = cap.read()\n",
    "    img = frame.copy()\n",
    "    try:\n",
    "        x, y, w, h = get_detection(frame)\n",
    "        \n",
    "        crop_img = img[y:y+h, x:x+w]\n",
    "        \n",
    "        crop_img = cv2.resize(crop_img, (100, 100))\n",
    "        \n",
    "        crop_img = np.expand_dims(crop_img, axis=0)\n",
    "        \n",
    "        # get the prediction from the model.\n",
    "        prediction = model.predict(crop_img)\n",
    "        print(prediction)\n",
    "        index = np.argmax(prediction)\n",
    "        res = CATEGORIES[index]\n",
    "        if index == 0:\n",
    "            color = (0, 0, 255)\n",
    "        else:\n",
    "            color = (0, 255, 0)\n",
    "        cv2.rectangle(frame, (x, y), (x+w, y+h), color, 2)\n",
    "        cv2.putText(frame, res, (x, y-10), cv2.FONT_HERSHEY_SIMPLEX,\n",
    "                                 0.8, color, 2, cv2.LINE_AA)\n",
    "\n",
    "    except:\n",
    "        pass\n",
    "    \n",
    "    cv2.imshow(\"frame\", frame)\n",
    "    if cv2.waitKey(1) == ord('q'):\n",
    "        break\n",
    "    \n",
    "cap.release()\n",
    "cv2.destroyAllWindows()"
   ]
  },
  {
   "cell_type": "code",
   "execution_count": null,
   "id": "49a1a245",
   "metadata": {},
   "outputs": [],
   "source": []
  }
 ],
 "metadata": {
  "interpreter": {
   "hash": "e7370f93d1d0cde622a1f8e1c04877d8463912d04d973331ad4851f04de6915a"
  },
  "kernelspec": {
   "display_name": "Python 3.7.10 64-bit ('dsenv': conda)",
   "language": "python",
   "name": "python3"
  },
  "language_info": {
   "codemirror_mode": {
    "name": "ipython",
    "version": 3
   },
   "file_extension": ".py",
   "mimetype": "text/x-python",
   "name": "python",
   "nbconvert_exporter": "python",
   "pygments_lexer": "ipython3",
   "version": "3.10.4"
  }
 },
 "nbformat": 4,
 "nbformat_minor": 5
}

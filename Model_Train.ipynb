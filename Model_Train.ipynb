{
 "cells": [
  {
   "cell_type": "code",
   "execution_count": 1,
   "id": "6e66f708",
   "metadata": {},
   "outputs": [],
   "source": [
    "# import necessary packages\n",
    "import os\n",
    "import cv2\n",
    "import time\n",
    "from tqdm import tqdm\n",
    "import numpy as np\n",
    "import tensorflow as tf\n",
    "from sklearn.model_selection import train_test_split\n",
    "from tensorflow.keras.models import Sequential, load_model\n",
    "from tensorflow.keras.layers import Conv2D, Dense, MaxPooling2D, Flatten, Activation, Dropout"
   ]
  },
  {
   "cell_type": "code",
   "execution_count": 2,
   "id": "3d82d1e5",
   "metadata": {},
   "outputs": [
    {
     "name": "stdout",
     "output_type": "stream",
     "text": [
      "['no_mask', 'mask']\n"
     ]
    }
   ],
   "source": [
    "img_size = 100\n",
    "datadir = r'Data'    # root data directiory \n",
    "CATEGORIES = os.listdir(datadir)\n",
    "print(CATEGORIES)"
   ]
  },
  {
   "cell_type": "code",
   "execution_count": 3,
   "id": "3d241f52",
   "metadata": {},
   "outputs": [
    {
     "name": "stderr",
     "output_type": "stream",
     "text": [
      "\r\n",
      "  0%|          | 0/500 [00:00<?, ?it/s]"
     ]
    },
    {
     "name": "stdout",
     "output_type": "stream",
     "text": [
      "Data/no_mask\n"
     ]
    },
    {
     "name": "stderr",
     "output_type": "stream",
     "text": [
      "100%|██████████| 500/500 [00:02<00:00, 179.56it/s]\n",
      "  6%|▌         | 28/500 [00:00<00:01, 276.60it/s]"
     ]
    },
    {
     "name": "stdout",
     "output_type": "stream",
     "text": [
      "Data/mask\n"
     ]
    },
    {
     "name": "stderr",
     "output_type": "stream",
     "text": [
      "100%|██████████| 500/500 [00:01<00:00, 281.28it/s]\n"
     ]
    }
   ],
   "source": [
    "# Define two empty list for contain image data\n",
    "x, y = [], []\n",
    "   \n",
    "def PreProcess():\n",
    "    for category in CATEGORIES:\n",
    "        path = os.path.join(datadir, category)\n",
    "        classIndex = CATEGORIES.index(category)\n",
    "        print(path)\n",
    "        for imgs in tqdm(os.listdir(path)):\n",
    "            img_arr = cv2.imread(os.path.join(path, imgs))\n",
    "            \n",
    "            # resize the image\n",
    "            resized_array = cv2.resize(img_arr, (img_size, img_size))\n",
    "            cv2.imshow(\"images\", resized_array)\n",
    "            cv2.waitKey(1)\n",
    "            resized_array = resized_array/255.0\n",
    "            x.append(resized_array)\n",
    "            y.append(classIndex)\n",
    "            \n",
    "PreProcess()\n",
    "cv2.destroyAllWindows()"
   ]
  },
  {
   "cell_type": "code",
   "execution_count": 4,
   "id": "0b10cd3f",
   "metadata": {},
   "outputs": [],
   "source": [
    "# Split data for training and testing\n",
    "X_train, X_test, y_train, y_test = train_test_split(x, y, test_size=0.20, random_state=42)"
   ]
  },
  {
   "cell_type": "code",
   "execution_count": 5,
   "id": "b85f416d",
   "metadata": {},
   "outputs": [],
   "source": [
    "# Convert and resize the data to a numpy array\n",
    "X_train = np.array(X_train).reshape(-1, img_size, img_size, 3)\n",
    "y_train = np.array(y_train)\n",
    "X_test = np.array(X_test).reshape(-1, img_size, img_size, 3)\n",
    "y_test = np.array(y_test)"
   ]
  },
  {
   "cell_type": "code",
   "execution_count": 6,
   "id": "215221b4",
   "metadata": {},
   "outputs": [],
   "source": [
    "batch_size = 32\n",
    "epochs = 15"
   ]
  },
  {
   "cell_type": "code",
   "execution_count": 7,
   "id": "3b28e4ca",
   "metadata": {},
   "outputs": [
    {
     "name": "stdout",
     "output_type": "stream",
     "text": [
      "Model: \"sequential\"\n",
      "_________________________________________________________________\n",
      "Layer (type)                 Output Shape              Param #   \n",
      "=================================================================\n",
      "conv2d (Conv2D)              (None, 98, 98, 64)        1792      \n",
      "_________________________________________________________________\n",
      "activation (Activation)      (None, 98, 98, 64)        0         \n",
      "_________________________________________________________________\n",
      "max_pooling2d (MaxPooling2D) (None, 49, 49, 64)        0         \n",
      "_________________________________________________________________\n",
      "conv2d_1 (Conv2D)            (None, 47, 47, 256)       147712    \n",
      "_________________________________________________________________\n",
      "activation_1 (Activation)    (None, 47, 47, 256)       0         \n",
      "_________________________________________________________________\n",
      "max_pooling2d_1 (MaxPooling2 (None, 23, 23, 256)       0         \n",
      "_________________________________________________________________\n",
      "conv2d_2 (Conv2D)            (None, 21, 21, 128)       295040    \n",
      "_________________________________________________________________\n",
      "activation_2 (Activation)    (None, 21, 21, 128)       0         \n",
      "_________________________________________________________________\n",
      "dropout (Dropout)            (None, 21, 21, 128)       0         \n",
      "_________________________________________________________________\n",
      "conv2d_3 (Conv2D)            (None, 19, 19, 32)        36896     \n",
      "_________________________________________________________________\n",
      "activation_3 (Activation)    (None, 19, 19, 32)        0         \n",
      "_________________________________________________________________\n",
      "max_pooling2d_2 (MaxPooling2 (None, 9, 9, 32)          0         \n",
      "_________________________________________________________________\n",
      "dropout_1 (Dropout)          (None, 9, 9, 32)          0         \n",
      "_________________________________________________________________\n",
      "flatten (Flatten)            (None, 2592)              0         \n",
      "_________________________________________________________________\n",
      "dense (Dense)                (None, 100)               259300    \n",
      "_________________________________________________________________\n",
      "dense_1 (Dense)              (None, 16)                1616      \n",
      "_________________________________________________________________\n",
      "dense_2 (Dense)              (None, 2)                 34        \n",
      "_________________________________________________________________\n",
      "activation_4 (Activation)    (None, 2)                 0         \n",
      "=================================================================\n",
      "Total params: 742,390\n",
      "Trainable params: 742,390\n",
      "Non-trainable params: 0\n",
      "_________________________________________________________________\n"
     ]
    }
   ],
   "source": [
    "# Create the model architecture\n",
    "\n",
    "model = Sequential()\n",
    "\n",
    "model.add(Conv2D(64,(3, 3), input_shape=(img_size, img_size, 3)))\n",
    "model.add(Activation('relu'))\n",
    "model.add(MaxPooling2D(pool_size = (2, 2)))\n",
    "\n",
    "model.add(Conv2D(256, (3, 3)))\n",
    "model.add(Activation('relu'))\n",
    "model.add(MaxPooling2D(pool_size = (2, 2)))\n",
    "\n",
    "model.add(Conv2D(128, (3, 3)))\n",
    "model.add(Activation('relu'))\n",
    "model.add(Dropout(0.25))\n",
    "\n",
    "model.add(Conv2D(32, (3, 3)))\n",
    "model.add(Activation('relu'))\n",
    "model.add(MaxPooling2D(pool_size = (2, 2)))\n",
    "\n",
    "model.add(Dropout(0.25))\n",
    "model.add(Flatten())\n",
    "model.add(Dense(100, activation='relu'))\n",
    "model.add(Dense(16, activation='relu'))\n",
    "\n",
    "\n",
    "model.add(Dense(len(CATEGORIES)))\n",
    "model.add(Activation('softmax'))\n",
    "\n",
    "# compile the model\n",
    "\n",
    "model.compile(optimizer='adam', loss = 'sparse_categorical_crossentropy', metrics=['accuracy'])\n",
    "model.summary()"
   ]
  },
  {
   "cell_type": "code",
   "execution_count": 8,
   "id": "8deb7529",
   "metadata": {},
   "outputs": [
    {
     "name": "stdout",
     "output_type": "stream",
     "text": [
      "Epoch 1/15\n",
      "18/18 [==============================] - 14s 269ms/step - loss: 0.2033 - accuracy: 0.9000 - val_loss: 2.8310e-06 - val_accuracy: 1.0000\n",
      "Epoch 2/15\n",
      "18/18 [==============================] - 2s 132ms/step - loss: 0.0257 - accuracy: 0.9946 - val_loss: 0.0169 - val_accuracy: 0.9958\n",
      "Epoch 3/15\n",
      "18/18 [==============================] - 2s 142ms/step - loss: 0.0168 - accuracy: 0.9964 - val_loss: 0.0071 - val_accuracy: 1.0000\n",
      "Epoch 4/15\n",
      "18/18 [==============================] - 2s 107ms/step - loss: 0.0011 - accuracy: 1.0000 - val_loss: 9.2997e-06 - val_accuracy: 1.0000\n",
      "Epoch 5/15\n",
      "18/18 [==============================] - 2s 93ms/step - loss: 0.0075 - accuracy: 0.9964 - val_loss: 6.9924e-06 - val_accuracy: 1.0000\n",
      "Epoch 6/15\n",
      "18/18 [==============================] - 3s 155ms/step - loss: 0.0218 - accuracy: 0.9929 - val_loss: 0.1932 - val_accuracy: 0.9375\n",
      "Epoch 7/15\n",
      "18/18 [==============================] - 1s 68ms/step - loss: 0.0521 - accuracy: 0.9804 - val_loss: 0.0098 - val_accuracy: 0.9958\n",
      "Epoch 8/15\n",
      "18/18 [==============================] - 1s 63ms/step - loss: 0.0108 - accuracy: 0.9964 - val_loss: 1.5670e-05 - val_accuracy: 1.0000\n",
      "Epoch 9/15\n",
      "18/18 [==============================] - 1s 63ms/step - loss: 0.0041 - accuracy: 0.9982 - val_loss: 0.0014 - val_accuracy: 1.0000\n",
      "Epoch 10/15\n",
      "18/18 [==============================] - 1s 63ms/step - loss: 1.2252e-05 - accuracy: 1.0000 - val_loss: 1.7881e-07 - val_accuracy: 1.0000\n",
      "Epoch 11/15\n",
      "18/18 [==============================] - 3s 147ms/step - loss: 8.1316e-08 - accuracy: 1.0000 - val_loss: 6.4571e-08 - val_accuracy: 1.0000\n",
      "Epoch 12/15\n",
      "18/18 [==============================] - 3s 192ms/step - loss: 7.6846e-08 - accuracy: 1.0000 - val_loss: 5.5134e-08 - val_accuracy: 1.0000\n",
      "Epoch 13/15\n",
      "18/18 [==============================] - 3s 192ms/step - loss: 8.7853e-07 - accuracy: 1.0000 - val_loss: 5.4637e-08 - val_accuracy: 1.0000\n",
      "Epoch 14/15\n",
      "18/18 [==============================] - 3s 192ms/step - loss: 9.6137e-06 - accuracy: 1.0000 - val_loss: 6.9538e-08 - val_accuracy: 1.0000\n",
      "Epoch 15/15\n",
      "18/18 [==============================] - 3s 192ms/step - loss: 1.4191e-06 - accuracy: 1.0000 - val_loss: 7.5002e-08 - val_accuracy: 1.0000\n",
      "Time taken:  48.52574610710144\n"
     ]
    }
   ],
   "source": [
    "t1 = time.time()\n",
    "\n",
    "# fit the model\n",
    "model.fit(X_train, y_train, batch_size = batch_size, epochs=epochs, validation_split=0.3, verbose = 1)\n",
    "model.save('{}.h5'.format(\"model\"))\n",
    "\n",
    "t2 = time.time()\n",
    "print('Time taken: ',t2-t1)"
   ]
  },
  {
   "cell_type": "code",
   "execution_count": 9,
   "id": "d5a8b9d5",
   "metadata": {},
   "outputs": [
    {
     "name": "stdout",
     "output_type": "stream",
     "text": [
      "7/7 [==============================] - 0s 67ms/step - loss: 3.1590e-08 - accuracy: 1.0000\n"
     ]
    }
   ],
   "source": [
    "validation_loss, validation_accuracy = model.evaluate(X_test, y_test)"
   ]
  },
  {
   "cell_type": "code",
   "execution_count": null,
   "id": "b01ecabd",
   "metadata": {},
   "outputs": [],
   "source": []
  }
 ],
 "metadata": {
  "kernelspec": {
   "display_name": "Python 3.7.10 64-bit ('dsenv': conda)",
   "language": "python",
   "name": "python3710jvsc74a57bd03de85ba066d17394542b6ba22a9c606e6ab49ee752c0de84f0bbe3e820d7ebf9"
  },
  "language_info": {
   "codemirror_mode": {
    "name": "ipython",
    "version": 3
   },
   "file_extension": ".py",
   "mimetype": "text/x-python",
   "name": "python",
   "nbconvert_exporter": "python",
   "pygments_lexer": "ipython3",
   "version": "3.7.10"
  }
 },
 "nbformat": 4,
 "nbformat_minor": 5
}
